{
 "cells": [
  {
   "cell_type": "code",
   "execution_count": 31,
   "metadata": {},
   "outputs": [],
   "source": [
    "import pandas as pd"
   ]
  },
  {
   "cell_type": "code",
   "execution_count": 32,
   "metadata": {},
   "outputs": [],
   "source": [
    "# Load the Excel files\n",
    "muting_file = pd.read_excel(\"Muting The Noise Edition - TERMINATED.xlsx\")\n",
    "westbury_music = pd.read_excel(\"Westbury Music LTD catalog Sept 2024.xlsx\")"
   ]
  },
  {
   "cell_type": "code",
   "execution_count": 33,
   "metadata": {},
   "outputs": [],
   "source": [
    "# Rename columns for easier access (if necessary)\n",
    "westbury_music.rename(columns={'Title': 'Song Title'}, inplace=True)"
   ]
  },
  {
   "cell_type": "code",
   "execution_count": 34,
   "metadata": {},
   "outputs": [],
   "source": [
    "# Aggregate Westbury Music to ensure unique song titles\n",
    "westbury_unique = westbury_music.groupby('Song Title', as_index=False).first()"
   ]
  },
  {
   "cell_type": "code",
   "execution_count": 35,
   "metadata": {},
   "outputs": [],
   "source": [
    "# Merge the unique titles with the muting file\n",
    "merged_df = pd.merge(muting_file, \n",
    "                      westbury_unique[['Song Title', 'Code']], \n",
    "                      left_on='Title', \n",
    "                      right_on='Song Title', \n",
    "                      how='left', \n",
    "                      suffixes=('_muting', '_westbury'))"
   ]
  },
  {
   "cell_type": "code",
   "execution_count": 36,
   "metadata": {},
   "outputs": [
    {
     "name": "stdout",
     "output_type": "stream",
     "text": [
      "Duplicate titles in Westbury Music:\n",
      "          Code        Song Title Song Territory  Mech. Collection  \\\n",
      "57     1008396         10 TO DUB  NORTH AMERICA             100.0   \n",
      "58       78405         10 TO DUB  NORTH AMERICA             100.0   \n",
      "97       64373         123 MAGIC  NORTH AMERICA             100.0   \n",
      "98      745715         123 MAGIC  NORTH AMERICA             100.0   \n",
      "149    1093327  1XTRA NEWS IDENT  NORTH AMERICA             100.0   \n",
      "...        ...               ...            ...               ...   \n",
      "44683    78387        ZION BOUND  NORTH AMERICA             100.0   \n",
      "44684    47472        ZION CHANT  NORTH AMERICA              50.0   \n",
      "44685   927012        ZION CHANT  NORTH AMERICA              50.0   \n",
      "44689  1011658          ZION DUB  NORTH AMERICA             100.0   \n",
      "44690   659148          ZION DUB  NORTH AMERICA             100.0   \n",
      "\n",
      "             Controlled Composers                          Composer  \\\n",
      "57           EDWARD OSULLIVAN LEE              EDWARD OSULLIVAN LEE   \n",
      "58     NEIL JOSEPH STEPHEN FRASER        NEIL JOSEPH STEPHEN FRASER   \n",
      "97                     ERIC WHITE                        ERIC WHITE   \n",
      "98                   WHITE STEVEN                      WHITE STEVEN   \n",
      "149          ANDREW ROBERT HORLEY              ANDREW ROBERT HORLEY   \n",
      "...                           ...                               ...   \n",
      "44683  NEIL JOSEPH STEPHEN FRASER        NEIL JOSEPH STEPHEN FRASER   \n",
      "44684                     HOLNESS          HOLNESS/FREDDIE MCGREGOR   \n",
      "44685             WINSTON HOLNESS  WINSTON HOLNESS/FREDDIE MCGREGOR   \n",
      "44689        EDWARD OSULLIVAN LEE              EDWARD OSULLIVAN LEE   \n",
      "44690      WINSTON GEORGE BOSWELL            WINSTON GEORGE BOSWELL   \n",
      "\n",
      "                           Controlled Publishers    Song Clients  \\\n",
      "57                        WESTBURY MUSIC LIMITED  WESTBURY MUSIC   \n",
      "58                        WESTBURY MUSIC LIMITED  WESTBURY MUSIC   \n",
      "97                        WESTBURY MUSIC LIMITED  WESTBURY MUSIC   \n",
      "98                        WESTBURY MUSIC LIMITED  WESTBURY MUSIC   \n",
      "149                             DREW WORLD MUSIC  WESTBURY MUSIC   \n",
      "...                                          ...             ...   \n",
      "44683                     WESTBURY MUSIC LIMITED  WESTBURY MUSIC   \n",
      "44684                     WESTBURY MUSIC LIMITED  WESTBURY MUSIC   \n",
      "44685  OBSERVER INTERNATIONAL PUBLISHING COMPANY  WESTBURY MUSIC   \n",
      "44689                     WESTBURY MUSIC LIMITED  WESTBURY MUSIC   \n",
      "44690  OBSERVER INTERNATIONAL PUBLISHING COMPANY  WESTBURY MUSIC   \n",
      "\n",
      "            Main Artist             ISRC Main Album Title  \n",
      "57                  NaN              NaN              NaN  \n",
      "58                  NaN              NaN              NaN  \n",
      "97               Spacek  DE-G93-02-00314  Vintage Hi-Tech  \n",
      "98                  NaN              NaN              NaN  \n",
      "149                 NaN              NaN              NaN  \n",
      "...                 ...              ...              ...  \n",
      "44683               NaN              NaN              NaN  \n",
      "44684  Freddie McGregor  US-VPR-08-14947     Mr. McGregor  \n",
      "44685               NaN              NaN              NaN  \n",
      "44689               NaN              NaN              NaN  \n",
      "44690               NaN              NaN              NaN  \n",
      "\n",
      "[8839 rows x 11 columns]\n"
     ]
    }
   ],
   "source": [
    "# Check for duplicates in the 'Song Title' column\n",
    "duplicate_titles = westbury_music[westbury_music.duplicated(subset='Song Title', keep=False)]\n",
    "print(\"Duplicate titles in Westbury Music:\")\n",
    "print(duplicate_titles)"
   ]
  },
  {
   "cell_type": "code",
   "execution_count": 37,
   "metadata": {},
   "outputs": [],
   "source": [
    "# This includes all original columns from muting_file and the matched Code\n",
    "output_df = merged_df.copy()"
   ]
  },
  {
   "cell_type": "code",
   "execution_count": 38,
   "metadata": {},
   "outputs": [],
   "source": [
    "# Select relevant columns for the output\n",
    "output_df = merged_df[['Title', 'Composer', 'Code_muting', 'Code_westbury']]"
   ]
  },
  {
   "cell_type": "code",
   "execution_count": 39,
   "metadata": {},
   "outputs": [
    {
     "name": "stderr",
     "output_type": "stream",
     "text": [
      "C:\\Users\\Dell_Office\\AppData\\Local\\Temp\\ipykernel_9240\\4129046146.py:2: SettingWithCopyWarning: \n",
      "A value is trying to be set on a copy of a slice from a DataFrame\n",
      "\n",
      "See the caveats in the documentation: https://pandas.pydata.org/pandas-docs/stable/user_guide/indexing.html#returning-a-view-versus-a-copy\n",
      "  output_df.rename(columns={'Code': 'Matched CP Code'}, inplace=True)\n"
     ]
    }
   ],
   "source": [
    "# Rename the matched code column for clarity\n",
    "output_df.rename(columns={'Code': 'Matched CP Code'}, inplace=True)\n"
   ]
  },
  {
   "cell_type": "code",
   "execution_count": 40,
   "metadata": {},
   "outputs": [],
   "source": [
    "# Save the output to a new Excel file\n",
    "output_file = \"Matched_Titles_and_CP_Codes.xlsx\"\n",
    "output_df.to_excel(output_file, index=False)"
   ]
  },
  {
   "cell_type": "code",
   "execution_count": 41,
   "metadata": {},
   "outputs": [
    {
     "name": "stdout",
     "output_type": "stream",
     "text": [
      "Total rows in output: 126\n",
      "Output saved to 'Matched_Titles_and_CP_Codes.xlsx'.\n"
     ]
    }
   ],
   "source": [
    "# Output the number of rows for verification\n",
    "print(f\"Total rows in output: {len(output_df)}\")\n",
    "print(f\"Output saved to '{output_file}'.\")"
   ]
  }
 ],
 "metadata": {
  "kernelspec": {
   "display_name": "Python 3",
   "language": "python",
   "name": "python3"
  },
  "language_info": {
   "codemirror_mode": {
    "name": "ipython",
    "version": 3
   },
   "file_extension": ".py",
   "mimetype": "text/x-python",
   "name": "python",
   "nbconvert_exporter": "python",
   "pygments_lexer": "ipython3",
   "version": "3.12.6"
  }
 },
 "nbformat": 4,
 "nbformat_minor": 2
}
