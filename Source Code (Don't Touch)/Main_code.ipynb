{
 "cells": [
  {
   "cell_type": "code",
   "execution_count": 37,
   "metadata": {},
   "outputs": [],
   "source": [
    "import pandas as pd\n",
    "import os\n",
    "import math"
   ]
  },
  {
   "cell_type": "code",
   "execution_count": 38,
   "metadata": {},
   "outputs": [],
   "source": [
    "splitter_file = \"7040761_spotify__2024_9_P1343F_P1343F_royalty_detail_20240926ZT232936.tsv\"\n",
    "num_splits = 1000\n",
    "column_to_sum = \"Distributed Amount\"\n",
    "output_dir = \"Split Files\""
   ]
  },
  {
   "cell_type": "code",
   "execution_count": 39,
   "metadata": {},
   "outputs": [
    {
     "name": "stderr",
     "output_type": "stream",
     "text": [
      "C:\\Users\\Dell_Office\\AppData\\Local\\Temp\\ipykernel_14360\\1563171340.py:1: DtypeWarning: Columns (29,43,47,50,52,53) have mixed types. Specify dtype option on import or set low_memory=False.\n",
      "  df = pd.read_csv(splitter_file, sep='\\t')\n"
     ]
    }
   ],
   "source": [
    "df = pd.read_csv(splitter_file, sep='\\t')"
   ]
  },
  {
   "cell_type": "code",
   "execution_count": 40,
   "metadata": {},
   "outputs": [
    {
     "data": {
      "text/plain": [
       "'7040761_spotify__2024_9_P1343F_P1343F_royalty_detail_20240926ZT232936.tsv'"
      ]
     },
     "execution_count": 40,
     "metadata": {},
     "output_type": "execute_result"
    }
   ],
   "source": [
    "splitter_file"
   ]
  },
  {
   "cell_type": "code",
   "execution_count": 41,
   "metadata": {},
   "outputs": [],
   "source": [
    "total_sum = df[column_to_sum].sum()"
   ]
  },
  {
   "cell_type": "code",
   "execution_count": 42,
   "metadata": {},
   "outputs": [],
   "source": [
    "def split_dataframe(df, num_splits):\n",
    "    split_size = math.ceil(len(df) / num_splits)\n",
    "    for i in range(num_splits):\n",
    "        yield df[i * split_size:(i + 1) * split_size]"
   ]
  },
  {
   "cell_type": "code",
   "execution_count": 43,
   "metadata": {},
   "outputs": [],
   "source": [
    "os.makedirs(output_dir, exist_ok=True)"
   ]
  },
  {
   "cell_type": "code",
   "execution_count": 44,
   "metadata": {},
   "outputs": [],
   "source": [
    "for i, split_df in enumerate(split_dataframe(df, num_splits)):\n",
    "    split_file_name = os.path.join(output_dir, f\"split_{i+1}.csv\")\n",
    "    split_df.to_csv(split_file_name, index=False)"
   ]
  },
  {
   "cell_type": "code",
   "execution_count": 45,
   "metadata": {},
   "outputs": [
    {
     "name": "stdout",
     "output_type": "stream",
     "text": [
      "Total sum of 'Distributed Amount': 267248.5269859972\n",
      "Total files split: 1000\n"
     ]
    }
   ],
   "source": [
    "print(f\"Total sum of '{column_to_sum}': {total_sum}\")\n",
    "print(f\"Total files split: {num_splits}\")"
   ]
  }
 ],
 "metadata": {
  "kernelspec": {
   "display_name": "Python 3",
   "language": "python",
   "name": "python3"
  },
  "language_info": {
   "codemirror_mode": {
    "name": "ipython",
    "version": 3
   },
   "file_extension": ".py",
   "mimetype": "text/x-python",
   "name": "python",
   "nbconvert_exporter": "python",
   "pygments_lexer": "ipython3",
   "version": "3.12.6"
  }
 },
 "nbformat": 4,
 "nbformat_minor": 2
}
