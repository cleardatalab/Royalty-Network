{
 "cells": [
  {
   "cell_type": "code",
   "execution_count": 5,
   "metadata": {},
   "outputs": [],
   "source": [
    "import pandas as pd"
   ]
  },
  {
   "cell_type": "code",
   "execution_count": 6,
   "id": "87821980",
   "metadata": {},
   "outputs": [],
   "source": [
    "freestyle_terminated = pd.read_excel(\"FREESTYLE-TERMINATED.xlsx\")\n",
    "westbury_music = pd.read_excel(\"Westbury Music LTD catalog Sept 2024.xlsx\")"
   ]
  },
  {
   "cell_type": "code",
   "execution_count": null,
   "id": "61fc10ba",
   "metadata": {},
   "outputs": [],
   "source": [
    "# Display the first few rows to check the data\n",
    "print(\"Freestyle Terminated Data:\")\n",
    "print(freestyle_terminated.head())\n",
    "print(\"\\nWestbury Music Data:\")\n",
    "print(westbury_music.head())"
   ]
  },
  {
   "cell_type": "code",
   "execution_count": 8,
   "id": "3a053514",
   "metadata": {},
   "outputs": [],
   "source": [
    "# Perform a merge based on the 'Title' columns of both DataFrames\n",
    "matched_data = pd.merge(\n",
    "    freestyle_terminated,\n",
    "    westbury_music[['Title', 'Code']],\n",
    "    how='left',  # Keep all entries from freestyle_terminated\n",
    "    left_on='Title',  # Key from freestyle_terminated\n",
    "    right_on='Title'  # Key from westbury_music\n",
    ")"
   ]
  },
  {
   "cell_type": "code",
   "execution_count": 9,
   "id": "c4490e31",
   "metadata": {},
   "outputs": [],
   "source": [
    "# Rename columns for clarity\n",
    "matched_data = matched_data.rename(columns={\n",
    "    'Code_y': 'Westbury_CP_Code',  # CP Code from westbury_music\n",
    "    'Code_x': 'Freestyle_Code'  # Original code from freestyle_terminated\n",
    "})"
   ]
  },
  {
   "cell_type": "code",
   "execution_count": 10,
   "id": "12ee525f",
   "metadata": {},
   "outputs": [],
   "source": [
    "# Select relevant columns\n",
    "matched_data = matched_data[['Title', 'Freestyle_Code', 'Westbury_CP_Code']]"
   ]
  },
  {
   "cell_type": "code",
   "execution_count": null,
   "id": "a04a9986",
   "metadata": {},
   "outputs": [],
   "source": [
    "# Display the matched data\n",
    "print(\"\\nMatched Data:\")\n",
    "print(matched_data)"
   ]
  },
  {
   "cell_type": "code",
   "execution_count": 12,
   "id": "6072c735",
   "metadata": {},
   "outputs": [],
   "source": [
    "# Save the matched data to a new Excel file\n",
    "matched_data.to_excel(\"Matched_Titles_and_CP_Codes.xlsx\", index=False)"
   ]
  }
 ],
 "metadata": {
  "kernelspec": {
   "display_name": "Python 3",
   "language": "python",
   "name": "python3"
  },
  "language_info": {
   "codemirror_mode": {
    "name": "ipython",
    "version": 3
   },
   "file_extension": ".py",
   "mimetype": "text/x-python",
   "name": "python",
   "nbconvert_exporter": "python",
   "pygments_lexer": "ipython3",
   "version": "3.12.6"
  }
 },
 "nbformat": 4,
 "nbformat_minor": 5
}
