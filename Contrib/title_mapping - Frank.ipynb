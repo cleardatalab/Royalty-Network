{
 "cells": [
  {
   "cell_type": "code",
   "execution_count": 61,
   "metadata": {},
   "outputs": [],
   "source": [
    "import pandas as pd"
   ]
  },
  {
   "cell_type": "code",
   "execution_count": 62,
   "metadata": {},
   "outputs": [
    {
     "name": "stdout",
     "output_type": "stream",
     "text": [
      "Loading CSV files...\n",
      "Files loaded successfully.\n",
      "\n"
     ]
    }
   ],
   "source": [
    "# Step 1: Load both CSV files\n",
    "print(\"Loading CSV files...\")\n",
    "bmi_df = pd.read_csv(\"the-royalty-network-inc-payees-2024-11-14.csv\")  # Adjust filename if needed\n",
    "client_df = pd.read_csv(\"Client 3652 (Schubert Music Europe GmbH)(in).csv\")  # Adjust filename if needed\n",
    "print(\"Files loaded successfully.\\n\")"
   ]
  },
  {
   "cell_type": "code",
   "execution_count": 63,
   "metadata": {},
   "outputs": [
    {
     "name": "stdout",
     "output_type": "stream",
     "text": [
      "Columns in BMI File:\n",
      "['Payee Name', 'Payee ID', 'Type', 'Registration Email', 'Payment Method', 'Bank Account Number', 'Bank Country', 'Bank Currency', 'Draft City', 'Draft State', 'Draft Postal Code', 'Draft Country', 'PayPal Email', 'User Registered', 'Registration URL', 'Created Date', 'Status', 'Exactuals Payee ID'] \n",
      "\n",
      "Columns in Client File:\n",
      "['Company Name', 'Company Code', 'Payee Name', 'Payee Code', 'Client Name', 'Client Code', 'Song Title', 'Song Code', 'Song Composer(s)', 'Source of Income', 'Source Code', 'Income Type Description', 'Income Type', 'Percentage Received', 'Amount Received', 'Share', 'Contractual Rate', 'Contractual Code', 'Effective Rate', 'Amount Earned', 'Catalog No', 'Units', 'Date From (MM/YYYY)', 'Date To (MM/YYYY)', 'Territory', 'Territory Code', 'Exploitation Source Name', 'ISRC', 'ISWC', 'Notes', 'Currency', 'Statement ID', 'Statement Line', 'Reference', 'Distribution No', 'Wholesale Price', 'Retail Price', 'Dealer Price', 'Production', 'Production Code', 'Episode', 'Episode Code', 'Imported Production', 'Imported Production Code', 'Imported Episode', 'Imported Episode Code', 'Broadcast Date', 'Broadcast Time', 'Usage Count', 'Duration (Number of Seconds)', 'Artist', 'Album', 'Time of Day', 'Usage', 'Exploitation Source Code', 'ISAN'] \n",
      "\n"
     ]
    }
   ],
   "source": [
    "# Step 2: Display all columns from both files\n",
    "print(\"Columns in BMI File:\")\n",
    "print(list(bmi_df.columns), \"\\n\")\n",
    "\n",
    "print(\"Columns in Client File:\")\n",
    "print(list(client_df.columns), \"\\n\")"
   ]
  },
  {
   "cell_type": "code",
   "execution_count": 64,
   "metadata": {},
   "outputs": [],
   "source": [
    "# Step 3: Identify columns in BMI that are not in Client\n",
    "bmi_columns = set(bmi_df.columns)\n",
    "client_columns = set(client_df.columns)"
   ]
  },
  {
   "cell_type": "code",
   "execution_count": 65,
   "metadata": {},
   "outputs": [],
   "source": [
    "# Find columns that are in BMI but not in Client\n",
    "missing_columns = bmi_columns - client_columns"
   ]
  },
  {
   "cell_type": "code",
   "execution_count": 66,
   "metadata": {},
   "outputs": [
    {
     "name": "stdout",
     "output_type": "stream",
     "text": [
      "Columns present in BMI file but NOT in Client file:\n",
      "['PayPal Email', 'Type', 'Payee ID', 'Bank Account Number', 'Registration Email', 'Draft City', 'Draft Postal Code', 'Draft Country', 'Bank Currency', 'Exactuals Payee ID', 'User Registered', 'Draft State', 'Status', 'Registration URL', 'Payment Method', 'Bank Country', 'Created Date']\n"
     ]
    }
   ],
   "source": [
    "# Display the missing columns\n",
    "print(\"Columns present in BMI file but NOT in Client file:\")\n",
    "print(list(missing_columns))"
   ]
  },
  {
   "cell_type": "code",
   "execution_count": 67,
   "metadata": {},
   "outputs": [],
   "source": [
    "# Step 4: Extract the data for the missing columns\n",
    "missing_columns_data = bmi_df[list(missing_columns)]  # Extract the missing columns' data"
   ]
  },
  {
   "cell_type": "code",
   "execution_count": 68,
   "metadata": {},
   "outputs": [],
   "source": [
    "# Step 5: Combine the missing columns with the data into a new DataFrame\n",
    "missing_columns_with_data = missing_columns_data.copy()"
   ]
  },
  {
   "cell_type": "code",
   "execution_count": 69,
   "metadata": {},
   "outputs": [
    {
     "name": "stdout",
     "output_type": "stream",
     "text": [
      "Missing columns with their data have been saved to 'missing_columns_with_data.csv'.\n"
     ]
    }
   ],
   "source": [
    "# Step 6: Save the missing columns and their data to a new CSV file\n",
    "missing_columns_with_data.to_csv(\"missing_columns_with_data.csv\", index=False)\n",
    "print(\"Missing columns with their data have been saved to 'missing_columns_with_data.csv'.\")"
   ]
  }
 ],
 "metadata": {
  "kernelspec": {
   "display_name": "Python 3",
   "language": "python",
   "name": "python3"
  },
  "language_info": {
   "codemirror_mode": {
    "name": "ipython",
    "version": 3
   },
   "file_extension": ".py",
   "mimetype": "text/x-python",
   "name": "python",
   "nbconvert_exporter": "python",
   "pygments_lexer": "ipython3",
   "version": "3.12.6"
  }
 },
 "nbformat": 4,
 "nbformat_minor": 2
}
